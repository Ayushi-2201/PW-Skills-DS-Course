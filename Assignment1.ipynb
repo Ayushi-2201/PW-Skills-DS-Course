{
  "nbformat": 4,
  "nbformat_minor": 0,
  "metadata": {
    "colab": {
      "provenance": [],
      "toc_visible": true,
      "authorship_tag": "ABX9TyPyl9A5ZJS3fAdjrM0+8eZY",
      "include_colab_link": true
    },
    "kernelspec": {
      "name": "python3",
      "display_name": "Python 3"
    },
    "language_info": {
      "name": "python"
    }
  },
  "cells": [
    {
      "cell_type": "markdown",
      "metadata": {
        "id": "view-in-github",
        "colab_type": "text"
      },
      "source": [
        "<a href=\"https://colab.research.google.com/github/Ayushi-2201/PW-Skills-DS-Course/blob/main/Assignment1.ipynb\" target=\"_parent\"><img src=\"https://colab.research.google.com/assets/colab-badge.svg\" alt=\"Open In Colab\"/></a>"
      ]
    },
    {
      "cell_type": "code",
      "source": [
        "# 1. Write a code to reverse a string.\n",
        "\n",
        "\n",
        "inputString = input(\"Enter the string: \")\n",
        "reversedString = inputString[::-1]\n",
        "print(f\"Reversed string : {reversedString}\")"
      ],
      "metadata": {
        "id": "MszsVFyH7n5Q",
        "colab": {
          "base_uri": "https://localhost:8080/"
        },
        "outputId": "99a86aa1-3929-4477-8648-019dcea12e48"
      },
      "execution_count": 76,
      "outputs": [
        {
          "output_type": "stream",
          "name": "stdout",
          "text": [
            "Enter the string: Enter the string\n",
            "Reversed string : gnirts eht retnE\n"
          ]
        }
      ]
    },
    {
      "cell_type": "code",
      "source": [
        "# 2. Write a code to count number of vowels in a string\n",
        "\n",
        "\n",
        "inputString = input(\"Enter the string: \")\n",
        "count = 0\n",
        "for char in inputString:\n",
        "  if char=='a' or char=='e' or char=='i' or char=='o' or char=='u' or char=='A' or char=='E' or char=='I' or char=='O' or char=='U':\n",
        "    count = count + 1\n",
        "print(f\"Number of vowels in the string \\\"{inputString}\\\" are {count}.\")"
      ],
      "metadata": {
        "id": "Pu-pNnYh9gRi",
        "colab": {
          "base_uri": "https://localhost:8080/"
        },
        "outputId": "d2810efd-0ec7-4f97-8f8a-da3272549aa1"
      },
      "execution_count": 77,
      "outputs": [
        {
          "output_type": "stream",
          "name": "stdout",
          "text": [
            "Enter the string: Enter the string\n",
            "Number of vowels in the string \"Enter the string\" are 4.\n"
          ]
        }
      ]
    },
    {
      "cell_type": "code",
      "source": [
        "# 3. Write a code to check whether a given string is palindrome or not\n",
        "\n",
        "\n",
        "inputString = input(\"Enter the string: \")\n",
        "size = len(inputString)\n",
        "for i in range (size//2):\n",
        "  if (inputString[i] != inputString[size - i - 1]):\n",
        "    print(\"Input string is a NOT PALINDROME.\")\n",
        "    break\n",
        "else:\n",
        "  print(\"Input string is a PALINDROME.\")"
      ],
      "metadata": {
        "id": "t1UvzpCi_yoT",
        "colab": {
          "base_uri": "https://localhost:8080/"
        },
        "outputId": "4b3f2d5a-a09b-4cae-b939-bbee6df30bba"
      },
      "execution_count": 79,
      "outputs": [
        {
          "output_type": "stream",
          "name": "stdout",
          "text": [
            "Enter the string: madam\n",
            "Input string is a PALINDROME.\n"
          ]
        }
      ]
    },
    {
      "cell_type": "code",
      "source": [
        "# 4. Write a program to check whether two strings are anagrams or not.\n",
        "\n",
        "\n",
        "inputString1 = input(\"Enter the string: \").lower()\n",
        "inputString2 = input(\"Enter the string: \").lower()\n",
        "if len(inputString1) == len(inputString2):\n",
        "  for i in inputString1:\n",
        "    if i not in inputString2:\n",
        "      print(\"Strings are NOT ANAGRAMS of each other.\")\n",
        "      break\n",
        "    else:\n",
        "      continue\n",
        "  else:\n",
        "    print(\"Strings are ANAGRAMS of each other.\")\n",
        "else:\n",
        "  print(\"Strings are NOT ANAGRAMS of each other.\")"
      ],
      "metadata": {
        "id": "Ky8PS4DqDFhC",
        "colab": {
          "base_uri": "https://localhost:8080/"
        },
        "outputId": "48b46bcf-2f9b-4ea7-944b-bdccbcce728e"
      },
      "execution_count": 80,
      "outputs": [
        {
          "output_type": "stream",
          "name": "stdout",
          "text": [
            "Enter the string: swap\n",
            "Enter the string: wasp\n",
            "Strings are ANAGRAMS of each other.\n"
          ]
        }
      ]
    },
    {
      "cell_type": "code",
      "source": [
        "# 5. Write a code to find all occurrences of a substring from a given substring.\n",
        "\n",
        "\n",
        "inputString = input(\"Enter the string: \").lower()\n",
        "subString = input(\"Enter the substring: \").lower()\n",
        "count = 0\n",
        "start = 0\n",
        "length = len(subString)\n",
        "\n",
        "while True:\n",
        "    index = inputString.find(subString, start)\n",
        "    if index == -1:\n",
        "        break\n",
        "    count += 1\n",
        "    start = index + length - 1\n",
        "\n",
        "print(f\"Number of occurrences of '{subString}' in '{inputString}': {count}\")\n"
      ],
      "metadata": {
        "id": "kxk5MlOMFX36",
        "colab": {
          "base_uri": "https://localhost:8080/"
        },
        "outputId": "82880836-26d0-4dd5-98b1-dae37657fcb6"
      },
      "execution_count": 82,
      "outputs": [
        {
          "output_type": "stream",
          "name": "stdout",
          "text": [
            "Enter the string: racecar\n",
            "Enter the substring: ra\n",
            "Number of occurrences of 'ra' in 'racecar': 1\n"
          ]
        }
      ]
    },
    {
      "cell_type": "code",
      "source": [
        "# 6. Write a code to perform basic string compression using repeated counts of characters.\n",
        "\n",
        "\n",
        "inputString = input(\"Enter the string: \")\n",
        "compressedString = \"\"\n",
        "count = 1\n",
        "for i in range(1, len(inputString)):\n",
        "  if inputString[i] == inputString[i-1]:\n",
        "    count += 1\n",
        "  else:\n",
        "    compressedString += inputString[i-1] + str(count)\n",
        "    count = 1\n",
        "compressedString += inputString[len(inputString)-1] + str(count)\n",
        "print(compressedString)"
      ],
      "metadata": {
        "id": "kXleAXReN1QB",
        "colab": {
          "base_uri": "https://localhost:8080/"
        },
        "outputId": "f8f4cd8a-778d-43be-ee15-e88ac9ca6396"
      },
      "execution_count": 83,
      "outputs": [
        {
          "output_type": "stream",
          "name": "stdout",
          "text": [
            "Enter the string: aaabbsseertq\n",
            "a3b2s2e2r1t1q1\n"
          ]
        }
      ]
    },
    {
      "cell_type": "code",
      "source": [
        "# 7. Write a code to check whether all characters are unique.\n",
        "\n",
        "\n",
        "inputString = input(\"Enter the string: \")\n",
        "for i in inputString:\n",
        "  index = inputString.count(i)\n",
        "  if index != 1:\n",
        "    print(\"Given string is NOT UNIQUE.\")\n",
        "    break\n",
        "else:\n",
        "  print(\"Given string is UNIQUE.\")\n",
        "\n"
      ],
      "metadata": {
        "id": "OCdpvh7cRUam",
        "colab": {
          "base_uri": "https://localhost:8080/"
        },
        "outputId": "b2add38b-a39c-446e-8d01-4ce0fa0f52bb"
      },
      "execution_count": 84,
      "outputs": [
        {
          "output_type": "stream",
          "name": "stdout",
          "text": [
            "Enter the string: Enter the\n",
            "Given string is NOT UNIQUE.\n"
          ]
        }
      ]
    },
    {
      "cell_type": "code",
      "source": [
        "# 8. Write a code to convert a given string to lowercase or uppercase.\n",
        "\n",
        "\n",
        "inputString = input(\"Enter the string: \")\n",
        "lowercaseString = inputString.lower()\n",
        "uppercaseString = inputString.upper()\n",
        "print(f\"Given string \\\"{inputString}\\\" in lowercase is \\\"{lowercaseString}\\\"\")\n",
        "print(f\"Given string \\\"{inputString}\\\" in uppercase is \\\"{uppercaseString}\\\"\")"
      ],
      "metadata": {
        "id": "8nLAeTluUBue",
        "colab": {
          "base_uri": "https://localhost:8080/"
        },
        "outputId": "c009995c-8204-4e1f-e8a0-a436619a0edc"
      },
      "execution_count": 85,
      "outputs": [
        {
          "output_type": "stream",
          "name": "stdout",
          "text": [
            "Enter the string: Enter the\n",
            "Given string \"Enter the\" in lowercase is \"enter the\"\n",
            "Given string \"Enter the\" in uppercase is \"ENTER THE\"\n"
          ]
        }
      ]
    },
    {
      "cell_type": "code",
      "source": [
        "# 9. Write a code to count number of words in a string\n",
        "\n",
        "\n",
        "inputString = input(\"Enter the string: \")\n",
        "words = inputString.split()\n",
        "print(f\"Number of words in the string \\\"{inputString}\\\" is {len(words)}\")\n"
      ],
      "metadata": {
        "id": "nZIrAvFDVfiR",
        "colab": {
          "base_uri": "https://localhost:8080/"
        },
        "outputId": "6d2655f9-90ba-4f87-f1e9-1f16f643cdef"
      },
      "execution_count": 86,
      "outputs": [
        {
          "output_type": "stream",
          "name": "stdout",
          "text": [
            "Enter the string: Write a code to concatenate two strings without using + operator.\n",
            "Number of words in the string \"Write a code to concatenate two strings without using + operator.\" is 11\n"
          ]
        }
      ]
    },
    {
      "cell_type": "code",
      "source": [
        "# 10. Write a code to concatenate two strings without using + operator.\n",
        "\n",
        "\n",
        "inputString1 = input(\"Enter the string: \")\n",
        "inputString2 = input(\"Enter the string: \")\n",
        "concatenatedString = f\"{inputString1} {inputString2}\"\n",
        "print(concatenatedString)"
      ],
      "metadata": {
        "id": "C7bWi9StWMFH",
        "colab": {
          "base_uri": "https://localhost:8080/"
        },
        "outputId": "b72b0f6c-4086-4860-8430-726207839028"
      },
      "execution_count": 87,
      "outputs": [
        {
          "output_type": "stream",
          "name": "stdout",
          "text": [
            "Enter the string: Write a code to concatenate\n",
            "Enter the string: two strings without using + operator\n",
            "Write a code to concatenate two strings without using + operator\n"
          ]
        }
      ]
    },
    {
      "cell_type": "code",
      "source": [
        "# # 11. Write a code to remove all occurrences of a specific element in a list.\n",
        "\n",
        "\n",
        "list1 = list(eval(input(\"Enter the list:\\n\")))          # [1,2,3,2,4,1,5,3]\n",
        "element_to_remove = int(input(\"Enter the the element:\"))\n",
        "while element_to_remove in list1:\n",
        "        list1.remove(element_to_remove)\n",
        "print(f\"New list after removing {element_to_remove} : {list1}\")\n"
      ],
      "metadata": {
        "id": "2t7WsJ8HaSS1",
        "colab": {
          "base_uri": "https://localhost:8080/"
        },
        "outputId": "0d1d77d1-2700-4857-adb2-fec7ab9feffc"
      },
      "execution_count": 89,
      "outputs": [
        {
          "output_type": "stream",
          "name": "stdout",
          "text": [
            "Enter the the elements of the list:\n",
            "[1,2,3,2,4,1,5,3]\n",
            "Enter the the element:2\n",
            "New list after removing 2 : [1, 3, 4, 1, 5, 3]\n"
          ]
        }
      ]
    },
    {
      "cell_type": "code",
      "source": [
        "# 12. Write a code to find the second largest number in a given list of integers.\n",
        "\n",
        "\n",
        "list1 = list(eval(input(\"Enter the list:\\n\")))      # [23, 1, 45, 17, 8, 34, 22, 10, 5, 29]\n",
        "sorted_list = sorted(list1)\n",
        "sorted_list.reverse()\n",
        "\n",
        "for i in range(len(sorted_list)):\n",
        "  if sorted_list[i] > sorted_list[i+1]:\n",
        "    print(f\"Second largest number is {sorted_list[i+1]}\")\n",
        "    break"
      ],
      "metadata": {
        "id": "XrBgODoxUFeO",
        "colab": {
          "base_uri": "https://localhost:8080/"
        },
        "outputId": "1532463a-17b7-42ab-8161-002c5247fcd0"
      },
      "execution_count": 100,
      "outputs": [
        {
          "output_type": "stream",
          "name": "stdout",
          "text": [
            "Enter the the elements of the list:\n",
            "[23, 1, 45, 17, 8, 34, 22, 10, 5, 29]\n",
            "Second largest number is 34\n"
          ]
        }
      ]
    },
    {
      "cell_type": "code",
      "source": [
        "# 13. Write a code to count the occurences of each element in a list and return a dictionary with elements as keys and their counts as values.\n",
        "\n",
        "\n",
        "list1 = list(eval(input(\"Enter the list:\\n\")))            # [23, 1, 45, 17, 8, 34, 22, 10, 5, 29, 1, 34, 22, 8, 5]\n",
        "dictionary = {}\n",
        "for i in list1:\n",
        "  count = list1.count(i)\n",
        "  dictionary.update({i : count})\n",
        "print(dictionary)"
      ],
      "metadata": {
        "id": "lKCaP_G-Uzvm",
        "colab": {
          "base_uri": "https://localhost:8080/"
        },
        "outputId": "e6288bee-668a-4e85-ac1f-ba0bf6b168cf"
      },
      "execution_count": 101,
      "outputs": [
        {
          "output_type": "stream",
          "name": "stdout",
          "text": [
            "Enter the the elements of the list:\n",
            "[23, 1, 45, 17, 8, 34, 22, 10, 5, 29, 1, 34, 22, 8, 5] \n",
            "{23: 1, 1: 2, 45: 1, 17: 1, 8: 2, 34: 2, 22: 2, 10: 1, 5: 2, 29: 1}\n"
          ]
        }
      ]
    },
    {
      "cell_type": "code",
      "source": [
        "# 14. Write a code to reverse a list in place without using any built in reverse functions\n",
        "\n",
        "\n",
        "list1 = list(eval(input(\"Enter the list:\\n\")))          # [23, 1, 45, 17, 8, 34, 22, 10, 5, 29, 1, 34, 22, 8, 5]\n",
        "reversed_list = list()\n",
        "while list1:\n",
        "  reversed_list.append(list1.pop())\n",
        "print(reversed_list)"
      ],
      "metadata": {
        "colab": {
          "base_uri": "https://localhost:8080/"
        },
        "id": "HbC1twzSVITM",
        "outputId": "5ac21631-f518-4829-80ca-515dac73aa36"
      },
      "execution_count": 102,
      "outputs": [
        {
          "output_type": "stream",
          "name": "stdout",
          "text": [
            "Enter the list:\n",
            "[23, 1, 45, 17, 8, 34, 22, 10, 5, 29, 1, 34, 22, 8, 5] \n",
            "[5, 8, 22, 34, 1, 29, 5, 10, 22, 34, 8, 17, 45, 1, 23]\n"
          ]
        }
      ]
    },
    {
      "cell_type": "code",
      "source": [
        "# 15. Implement a code to find and remove duplicates from a list while preserving the original order of the elements.\n",
        "\n",
        "\n",
        "list1 = list(eval(input(\"Enter the list:\\n\")))\n",
        "temp_list = list1.copy()\n",
        "no_duplicate_list = []\n",
        "for i in list1:\n",
        "  if i not in no_duplicate_list:\n",
        "    no_duplicate_list.append(i)\n",
        "  while i in temp_list:\n",
        "    temp_list.remove(i)\n",
        "print(no_duplicate_list)"
      ],
      "metadata": {
        "id": "T28TVdzWVWk7",
        "colab": {
          "base_uri": "https://localhost:8080/"
        },
        "outputId": "2edb673c-b745-4beb-9fca-cf64e8fa92d2"
      },
      "execution_count": 104,
      "outputs": [
        {
          "output_type": "stream",
          "name": "stdout",
          "text": [
            "Enter the the elements of the list:\n",
            "[23, 1, 45, 17, 8, 34, 22, 10, 5, 29, 1, 34, 22, 8, 5]\n",
            "[23, 1, 45, 17, 8, 34, 22, 10, 5, 29]\n"
          ]
        }
      ]
    },
    {
      "cell_type": "code",
      "source": [
        "# 16. Write a code to check if the given list is sorted or not.\n",
        "\n",
        "\n",
        "list1 = list(eval(input(\"Enter the list:\\n\")))\n",
        "for i in range(len(list1)):\n",
        "  if list1[i] > list1[i + 1]:\n",
        "    print(\"Given list is NOT SORTED.\")\n",
        "    break\n",
        "else:\n",
        "  print(\"Given list is SORTED.\")"
      ],
      "metadata": {
        "id": "n9S9hxhgVmsj",
        "colab": {
          "base_uri": "https://localhost:8080/"
        },
        "outputId": "f1a5db5d-e774-4256-9c9a-e4cb989f6808"
      },
      "execution_count": 106,
      "outputs": [
        {
          "output_type": "stream",
          "name": "stdout",
          "text": [
            "Enter the the elements of the list:\n",
            "[23, 1, 45, 17, 8, 34, 22, 10, 5, 29, 1, 34, 22, 8, 5]\n",
            "Given list is NOT SORTED.\n"
          ]
        }
      ]
    },
    {
      "cell_type": "code",
      "source": [
        "# 17. Write a code to merge two sorted list into a single sorted list.\n",
        "\n",
        "\n",
        "list1 = list(eval(input(\"Enter the list:\\n\")))\n",
        "list2 = list(eval(input(\"Enter the list:\\n\")))\n",
        "\n",
        "print(sorted(list1 + list2))"
      ],
      "metadata": {
        "id": "jbiwe1ctVwGq",
        "colab": {
          "base_uri": "https://localhost:8080/"
        },
        "outputId": "7730c1cb-32ad-4e7b-8880-13e0675e3003"
      },
      "execution_count": 107,
      "outputs": [
        {
          "output_type": "stream",
          "name": "stdout",
          "text": [
            "Enter the the elements of the list:\n",
            "[23, 1, 45, 17, 8, 34, 22, 10, 5, 29, 1, 34, 22, 8, 5]\n",
            "Enter the the elements of the list:\n",
            "[1,2,3,2,4,1,5,3]\n",
            "[1, 1, 1, 1, 2, 2, 3, 3, 4, 5, 5, 5, 8, 8, 10, 17, 22, 22, 23, 29, 34, 34, 45]\n"
          ]
        }
      ]
    },
    {
      "cell_type": "code",
      "source": [
        "# 18. Write a code to find an intersection of two given lists.\n",
        "\n",
        "\n",
        "list1 = list(eval(input(\"Enter the list:\\n\")))\n",
        "list2 = list(eval(input(\"Enter the list:\\n\")))\n",
        "list1, list2 = set(list1), set(list2)\n",
        "print(list1 & list2)"
      ],
      "metadata": {
        "id": "d38KVn8FV6i6"
      },
      "execution_count": null,
      "outputs": []
    },
    {
      "cell_type": "code",
      "source": [
        "# 19. Write a code to find an union of two given lists without duplicates.\n",
        "\n",
        "\n",
        "list1 = list(eval(input(\"Enter the list:\\n\")))\n",
        "list2 = list(eval(input(\"Enter the list:\\n\")))\n",
        "list1, list2 = set(list1), set(list2)\n",
        "print(list1 | list2)"
      ],
      "metadata": {
        "id": "HeJ8hAAjWCIR"
      },
      "execution_count": null,
      "outputs": []
    },
    {
      "cell_type": "code",
      "source": [
        "# 20. Write a code to shuffle a given list randomly without using any built-in shuffle function\n",
        "\n",
        "\n",
        "import random\n",
        "list1 = list(eval(input(\"Enter the list:\\n\")))\n",
        "shuffled_list = []\n",
        "size = len(list1)\n",
        "index_array = []\n",
        "while len(index_array) < size:\n",
        "        index = random.randint(0, size - 1)\n",
        "        if index not in index_array:\n",
        "            index_array.append(index)\n",
        "            shuffled_list.append(list1[index])\n",
        "print(shuffled_list)"
      ],
      "metadata": {
        "id": "_N9LXOvQhf03"
      },
      "execution_count": null,
      "outputs": []
    },
    {
      "cell_type": "code",
      "source": [
        "# 21. Write a code that take two tuples as input and return a tuple containing elements that are common to both tuples.\n",
        "\n",
        "\n",
        "list1 = eval(input(\"Enter the tuple:\\n\"))\n",
        "list2 = eval(input(\"Enter the tuple:\\n\"))\n",
        "list_1, list_2 = list(list1), list(list2)\n",
        "print(tuple(list_1 +list_2))"
      ],
      "metadata": {
        "id": "zOfmOPj3itZ1"
      },
      "execution_count": null,
      "outputs": []
    },
    {
      "cell_type": "code",
      "source": [
        "# 22. Create a code that prompts the user to enter two sets of integers separated by commas. Then print the inserection of these two sets.\n",
        "\n",
        "\n",
        "set1 = set(eval(input(\"Enter the sets:\\n\")))\n",
        "set2 = set(eval(input(\"Enter the sets:\\n\")))\n",
        "\n",
        "print(tuple(set1 & set2))"
      ],
      "metadata": {
        "id": "WndTyBAuhw-W"
      },
      "execution_count": null,
      "outputs": []
    },
    {
      "cell_type": "code",
      "source": [
        "# 23. Write a code to concatenate two tuples. The function should take two tuples as input and return a tuple containing elements from both tuples.\n",
        "\n",
        "\n",
        "def concatenate_tuples(tuple1, tuple2):\n",
        "    return tuple1 + tuple2\n",
        "\n",
        "tuple1 = eval(input(\"Enter the tuple:\\n\"))\n",
        "tuple2 = eval(input(\"Enter the tuple:\\n\"))\n",
        "\n",
        "print(concatenate_tuples(tuple1, tuple2))"
      ],
      "metadata": {
        "id": "gVCraxtNiExW"
      },
      "execution_count": null,
      "outputs": []
    },
    {
      "cell_type": "code",
      "source": [
        "# 24. Develop a code that prompts the user to input two sets of strings. Then, print the elements that are present in the first set but not in the second set.\n",
        "\n",
        "\n",
        "set1 = set(eval(input(\"Enter the set:\\n\")))\n",
        "set2 = set(eval(input(\"Enter the set:\\n\")))\n",
        "\n",
        "print(set1 - set2)\n"
      ],
      "metadata": {
        "id": "FtFPZSKJieXN"
      },
      "execution_count": null,
      "outputs": []
    },
    {
      "cell_type": "code",
      "source": [
        "# 25.Create a code that takes a tuple and two integers as input. The function should return a new tuple containing elements from the original tuple within the specified range of indices.\n",
        "\n",
        "\n",
        "def substring(tuple1, start_index, end_index):\n",
        "  return tuple1[start_index:end_index]\n",
        "\n",
        "tuple1 = eval(input(\"Enter the list:\\n\"))\n",
        "start_index = int(input(\"Enter the start index:\"))\n",
        "end_index = int(input(\"Enter the end index:\"))\n",
        "result = substring(tuple1, start_index, end_index)\n",
        "print(result)"
      ],
      "metadata": {
        "id": "E1N4i9GikYTP"
      },
      "execution_count": null,
      "outputs": []
    },
    {
      "cell_type": "code",
      "source": [
        "# 26. Write a code that prompts the user to input two sets of characters. Then, print the union of these two sets.\n",
        "\n",
        "\n",
        "\n",
        "set1 = set(eval(input(\"Enter the set:\\n\")))\n",
        "set2 = set(eval(input(\"Enter the set:\\n\")))\n",
        "\n",
        "print(set1 | set2)"
      ],
      "metadata": {
        "id": "UwtSunAdkCtv"
      },
      "execution_count": null,
      "outputs": []
    },
    {
      "cell_type": "code",
      "source": [
        "# 27. Develop a code that takes a tuple of integers as input. The function should return the maximum and minimum values from the tuple using tuple unpacking.\n",
        "\n",
        "\n",
        "def max_value_of_tuple(tuple1):\n",
        "  return max(tuple1)\n",
        "def min_value_of_tuple(tuple1):\n",
        "  return min(tuple1)\n",
        "\n",
        "tuple1 = eval(input(\"Enter the tuple:\\n\"))\n",
        "max_value, min_value = max_value_of_tuple(tuple1), min_value_of_tuple(tuple1)\n",
        "print(f\"Maximum value is {max_value} and Minimum value is {min_value}\")"
      ],
      "metadata": {
        "colab": {
          "base_uri": "https://localhost:8080/"
        },
        "id": "0NjKCyBkkrsX",
        "outputId": "eadd77ea-3e7c-4ca5-ecfb-5e3a5b862036"
      },
      "execution_count": 108,
      "outputs": [
        {
          "output_type": "stream",
          "name": "stdout",
          "text": [
            "Enter the the elements of the list:\n",
            "(5,7,3,8,4,6,2,1,9)\n",
            "Maximum value is 9 and Minimum value is 1\n"
          ]
        }
      ]
    },
    {
      "cell_type": "code",
      "source": [
        "# 28. Create a code that defines two sets of integers. Then, print the union, Intersection, and difference of these two sets.\n",
        "\n",
        "\n",
        "set1 = set(eval(input(\"Enter the set:\\n\")))\n",
        "set2 = set(eval(input(\"Enter the set:\\n\")))\n",
        "\n",
        "print(f\"Union = {set1 | set2} \\nIntersection = {set1 & set2} \\nDifference = {set1 - set2}\")"
      ],
      "metadata": {
        "id": "iZ59E5w6lFcN",
        "colab": {
          "base_uri": "https://localhost:8080/"
        },
        "outputId": "3ee62fc8-9fb7-4b83-dd45-53c951cdf011"
      },
      "execution_count": 109,
      "outputs": [
        {
          "output_type": "stream",
          "name": "stdout",
          "text": [
            "Enter the set:\n",
            "(5,7,3,8,4,6,2,1,9)\n",
            "Enter the set:\n",
            "(1,3,5,7,9)\n",
            "Union = {1, 2, 3, 4, 5, 6, 7, 8, 9} \n",
            "Intersection = {1, 3, 5, 7, 9} \n",
            "Difference = {8, 2, 4, 6}\n"
          ]
        }
      ]
    },
    {
      "cell_type": "code",
      "source": [
        "# 29. Write a code that takes a tuple and an element as input. The function should return the count of occurrences of the given element in the tuple.\n",
        "\n",
        "\n",
        "tuple1 = eval(input(\"Enter the tuple:\\n\"))\n",
        "element = int(input(\"Enter the element:\"))\n",
        "\n",
        "print(f\"Total no of Occurrences of {element} are {tuple1.count(element)}\")"
      ],
      "metadata": {
        "colab": {
          "base_uri": "https://localhost:8080/"
        },
        "id": "09YvC80klJjs",
        "outputId": "73387e57-a025-435e-b3ff-51412b2bded1"
      },
      "execution_count": null,
      "outputs": [
        {
          "output_type": "stream",
          "name": "stdout",
          "text": [
            "Enter the the elements of the list:\n",
            "23,16,13,18,19,29,10,32,23,14,29,14,29,14,29\n",
            "Enter the element:29\n",
            "Total no of Occurrences of 29 are 4\n"
          ]
        }
      ]
    },
    {
      "cell_type": "code",
      "source": [
        "#  30. Develop a code that prompts the user to input two sets of strings. Then, print the symmetric differenc these two sets.\n",
        "\n",
        "\n",
        "set1 = set(eval(input(\"Enter the set1:\\n\")))\n",
        "set2 = set(eval(input(\"Enter the set2:\\n\")))\n",
        "\n",
        "print(f\"Symmetric Difference = {set1 - set2}\")"
      ],
      "metadata": {
        "id": "-j6KP437lOSk"
      },
      "execution_count": null,
      "outputs": []
    },
    {
      "cell_type": "code",
      "source": [
        "# 31. Write a code that takes a list of words as input and returns a dictionary where the keys are unique words and the values are the frequencies of those words in the input list.\n",
        "\n",
        "\n",
        "list1 = list(eval(input(\"Enter the list:\\n\")))\n",
        "set_list = set(list1)\n",
        "dictionary = {}\n",
        "for i in set_list:\n",
        "  dictionary.update({i : list1.count(i)})\n",
        "print(dictionary)"
      ],
      "metadata": {
        "colab": {
          "base_uri": "https://localhost:8080/"
        },
        "id": "r9-5mAnnlXjE",
        "outputId": "dfe6d587-6d3d-44ec-b5f4-6771c0b2419d"
      },
      "execution_count": null,
      "outputs": [
        {
          "output_type": "stream",
          "name": "stdout",
          "text": [
            "Enter the the elements of the list:\n",
            "23,16,13,18,19,29,10,32,23,14,29,14,29,14,29\n",
            "{32: 1, 10: 1, 13: 1, 14: 3, 16: 1, 18: 1, 19: 1, 23: 2, 29: 4}\n"
          ]
        }
      ]
    },
    {
      "cell_type": "code",
      "source": [
        "# 32. Write a code that takes two dictionaries as Input and merges them Into a single dictionary. If there an common keys, the values should be added together.\n",
        "\n",
        "\n",
        "dict1 = dict(eval(input(\"Enter the dict:\\n\")))\n",
        "dict2 = dict(eval(input(\"Enter the dict:\\n\")))\n",
        "\n",
        "\n",
        "merged_dict = dict1.copy()\n",
        "for key, value in dict2.items():\n",
        "    if key in merged_dict:\n",
        "        merged_dict[key] += value\n",
        "    else:\n",
        "        merged_dict[key] = value\n",
        "print(merged_dict)"
      ],
      "metadata": {
        "id": "3e0AyH1Dlatc"
      },
      "execution_count": null,
      "outputs": []
    },
    {
      "cell_type": "code",
      "source": [
        "# 33. Write a code to access a value in a nested dictionary. The function should take the dictionary and a list of keys as input, and return the corresponding value. If any of the keys do not exist in the dictionary, the function should return None.\n",
        "\n",
        "\n",
        "def value_in_nested_dict(dict1, list1):\n",
        "  found = False\n",
        "  for i, obj in dict1.items():\n",
        "    if i in list1:\n",
        "\n",
        "      for j, obj2 in obj.items():\n",
        "        # print(j, \"obj = \", obj2)\n",
        "        if j in list1:\n",
        "          print(obj[j])\n",
        "          found = True\n",
        "          break\n",
        "    if found:\n",
        "      break\n",
        "  if not found:\n",
        "      print(\"None\")\n",
        "\n",
        "dict1 = dict(eval(input(\"Enter the nested dict:\\n\")))\n",
        "\n",
        "list1 = list(eval(input(\"Enter the list:\\n\")))\n",
        "\n",
        "value_in_nested_dict(dict1, list1)\n",
        "# {     'A': {1: 'apples', 2: 'banana'},     'B': {3: 'cherry', 4: 'mango'} }         ['A', 1]"
      ],
      "metadata": {
        "id": "CFzzKX5AYIye"
      },
      "execution_count": null,
      "outputs": []
    },
    {
      "cell_type": "code",
      "source": [
        "# 34. Write a code that takes a dictionary as input and returns a sorted version of it based on its values. You can choose whether to sort in ascending or descending order.\n",
        "\n",
        "\n",
        "dict1 = dict(eval(input(\"Enter the dict:\\n\")))\n",
        "list1 = list(dict1.values())\n",
        "list2 = list(dict1.items())\n",
        "dict2 = {}\n",
        "\n",
        "list1.sort()\n",
        "\n",
        "for i in list1:\n",
        "  for j, k in list2:\n",
        "    if i == k:\n",
        "      dict2.update({j : i})\n",
        "print(dict2)"
      ],
      "metadata": {
        "colab": {
          "base_uri": "https://localhost:8080/"
        },
        "id": "uVExpKc7YODc",
        "outputId": "4fb1be0b-8802-43df-87b1-1cfbb1a8f8fa"
      },
      "execution_count": 73,
      "outputs": [
        {
          "output_type": "stream",
          "name": "stdout",
          "text": [
            "Enter the the elements of the dict:\n",
            "{1: 'banana', 2: 'mango',3: 'apple', 4: 'cherry'}\n",
            "{3: 'apple', 1: 'banana', 4: 'cherry', 2: 'mango'}\n"
          ]
        }
      ]
    },
    {
      "cell_type": "code",
      "source": [
        "# 35. Write a code that inverts a dictionary, swapping keys and values. Ensure that the inverted dictionary correctly handles cases where multiple keys have the same value by storing the keys as a list in the inverted dictionary.\n",
        "\n",
        "\n",
        "dict1 = dict(eval(input(\"Enter the dict:\\n\")))\n",
        "# {1: 'apples', 2: 'banana',3: 'cherry', 4: 'mango'}banana\n",
        "list1 = list((dict1.items()))\n",
        "list1.reverse()\n",
        "dict1 = dict(list1)\n",
        "print(f\"Reversed dictionary is: \\n{dict1}\")"
      ],
      "metadata": {
        "colab": {
          "base_uri": "https://localhost:8080/"
        },
        "id": "h6ItCuauYPK7",
        "outputId": "dc08066d-f3c8-4a1c-aa93-14f2c0ff325f",
        "collapsed": true
      },
      "execution_count": null,
      "outputs": [
        {
          "output_type": "stream",
          "name": "stdout",
          "text": [
            "Enter the the elements of the dict:\n",
            "{1: 'apples', 2: 'banana',3: 'cherry', 4: 'mango'}\n",
            "Reversed dictionary is: \n",
            "{4: 'mango', 3: 'cherry', 2: 'banana', 1: 'apples'}\n"
          ]
        }
      ]
    }
  ]
}